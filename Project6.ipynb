{
 "cells": [
  {
   "cell_type": "code",
   "execution_count": 4,
   "id": "ac12d110-8943-41f2-a18f-c91dd5a5e9e5",
   "metadata": {},
   "outputs": [
    {
     "name": "stdout",
     "output_type": "stream",
     "text": [
      " Loading datasets...\n"
     ]
    },
    {
     "name": "stderr",
     "output_type": "stream",
     "text": [
      "C:\\Users\\SOMESH\\AppData\\Local\\Temp\\ipykernel_9076\\2254587728.py:14: DtypeWarning: Columns (7) have mixed types. Specify dtype option on import or set low_memory=False.\n",
      "  train = pd.read_csv(\"train.csv\", parse_dates=[\"Date\"])\n"
     ]
    },
    {
     "name": "stdout",
     "output_type": "stream",
     "text": [
      "Data Loaded Successfully!\n",
      "Train shape: (1017209, 9)\n",
      "Test shape: (41088, 8)\n",
      "Store shape: (1115, 10)\n",
      "After merge shape: (1017209, 18)\n",
      "Cleaning and preparing data...\n",
      " Creating features...\n",
      "Training Random Forest Model...\n",
      "✅ Model Trained! Validation RMSE: 1197.39\n"
     ]
    },
    {
     "data": {
      "image/png": "[encoded data removed]",
      "text/plain": [
       "<Figure size 800x400 with 1 Axes>"
      ]
     },
     "metadata": {},
     "output_type": "display_data"
    },
    {
     "name": "stdout",
     "output_type": "stream",
     "text": [
      " Model saved: models/rf_model.pkl\n",
      "Generating predictions on test set...\n",
      "Predictions saved to: outputs/predicted_sales.csv\n",
      "\n",
      " PROJECT COMPLETED SUCCESSFULLY \n"
     ]
    }
   ],
   "source": [
    "# Step 1: Import libraries\n",
    "import pandas as pd\n",
    "import numpy as np\n",
    "import matplotlib.pyplot as plt\n",
    "import seaborn as sns\n",
    "from sklearn.model_selection import train_test_split\n",
    "from sklearn.ensemble import RandomForestRegressor\n",
    "from sklearn.metrics import mean_squared_error\n",
    "import joblib\n",
    "import os\n",
    "\n",
    "# Step 2: Load data\n",
    "print(\" Loading datasets...\")\n",
    "train = pd.read_csv(\"train.csv\", parse_dates=[\"Date\"])\n",
    "test = pd.read_csv(\"test.csv\", parse_dates=[\"Date\"])\n",
    "store = pd.read_csv(\"store.csv\")\n",
    "\n",
    "print(\"Data Loaded Successfully!\")\n",
    "print(\"Train shape:\", train.shape)\n",
    "print(\"Test shape:\", test.shape)\n",
    "print(\"Store shape:\", store.shape)\n",
    "\n",
    "# Step 3: Merge store information\n",
    "df = train.merge(store, on=\"Store\", how=\"left\")\n",
    "print(\"After merge shape:\", df.shape)\n",
    "\n",
    "# Step 4: Clean data\n",
    "print(\"Cleaning and preparing data...\")\n",
    "df = df[df[\"Open\"] == 1]  # remove closed stores\n",
    "df[\"CompetitionDistance\"] = df[\"CompetitionDistance\"].fillna(1e6)\n",
    "df[\"StateHoliday\"] = df[\"StateHoliday\"].astype(str)\n",
    "\n",
    "# Step 5: Feature Engineering\n",
    "print(\" Creating features...\")\n",
    "df[\"year\"] = df[\"Date\"].dt.year\n",
    "df[\"month\"] = df[\"Date\"].dt.month\n",
    "df[\"day\"] = df[\"Date\"].dt.day\n",
    "df[\"weekday\"] = df[\"Date\"].dt.weekday\n",
    "df[\"is_weekend\"] = df[\"weekday\"].isin([5,6]).astype(int)\n",
    "\n",
    "# Step 6: Select features & target\n",
    "features = [\"Store\", \"Promo\", \"month\", \"weekday\", \"CompetitionDistance\", \"is_weekend\"]\n",
    "target = \"Sales\"\n",
    "X = df[features].fillna(0)\n",
    "y = df[target]\n",
    "\n",
    "# Step 7: Split data\n",
    "X_train, X_val, y_train, y_val = train_test_split(X, y, test_size=0.2, random_state=42)\n",
    "\n",
    "# Step 8: Train model\n",
    "print(\"Training Random Forest Model...\")\n",
    "model = RandomForestRegressor(n_estimators=100, random_state=42, n_jobs=-1)\n",
    "model.fit(X_train, y_train)\n",
    "\n",
    "# Step 9: Evaluate model\n",
    "y_pred = model.predict(X_val)\n",
    "rmse = np.sqrt(mean_squared_error(y_val, y_pred))\n",
    "print(f\"✅ Model Trained! Validation RMSE: {rmse:.2f}\")\n",
    "\n",
    "# Step 10: Feature Importance\n",
    "plt.figure(figsize=(8,4))\n",
    "imp = pd.Series(model.feature_importances_, index=features).sort_values(ascending=False)\n",
    "sns.barplot(x=imp, y=imp.index)\n",
    "plt.title(\"Feature Importance in Sales Prediction\")\n",
    "plt.tight_layout()\n",
    "plt.show()\n",
    "\n",
    "# Step 11: Save trained model\n",
    "os.makedirs(\"models\", exist_ok=True)\n",
    "joblib.dump(model, \"models/rf_model.pkl\")\n",
    "print(\" Model saved: models/rf_model.pkl\")\n",
    "\n",
    "# Step 12: Predict on Test Data\n",
    "print(\"Generating predictions on test set...\")\n",
    "test = test.merge(store, on=\"Store\", how=\"left\")\n",
    "test[\"CompetitionDistance\"] = test[\"CompetitionDistance\"].fillna(1e6)\n",
    "test[\"StateHoliday\"] = test[\"StateHoliday\"].astype(str)\n",
    "test[\"month\"] = test[\"Date\"].dt.month\n",
    "test[\"weekday\"] = test[\"Date\"].dt.weekday\n",
    "test[\"is_weekend\"] = test[\"weekday\"].isin([5,6]).astype(int)\n",
    "\n",
    "X_test = test[features].fillna(0)\n",
    "test[\"PredictedSales\"] = model.predict(X_test)\n",
    "\n",
    "# Step 13: Save output\n",
    "os.makedirs(\"outputs\", exist_ok=True)\n",
    "test[[\"Store\",\"Date\",\"PredictedSales\"]].to_csv(\"outputs/predicted_sales.csv\", index=False)\n",
    "print(\"Predictions saved to: outputs/predicted_sales.csv\")\n",
    "\n",
    "print(\"\\n PROJECT COMPLETED SUCCESSFULLY \")\n"
   ]
  },
  {
   "cell_type": "code",
   "execution_count": null,
   "id": "783a58ef-af0a-43bd-af27-9892bf08a90c",
   "metadata": {},
   "outputs": [],
   "source": []
  }
 ],
 "metadata": {
  "kernelspec": {
   "display_name": "Python [conda env:base] *",
   "language": "python",
   "name": "conda-base-py"
  },
  "language_info": {
   "codemirror_mode": {
    "name": "ipython",
    "version": 3
   },
   "file_extension": ".py",
   "mimetype": "text/x-python",
   "name": "python",
   "nbconvert_exporter": "python",
   "pygments_lexer": "ipython3",
   "version": "3.13.5"
  }
 },
 "nbformat": 4,
 "nbformat_minor": 5
}
